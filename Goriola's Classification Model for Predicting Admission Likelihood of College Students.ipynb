{
 "cells": [
  {
   "cell_type": "markdown",
   "source": [
    "# This is a Logistic Regression (Classification) Model for Predicting the Likelihood of Admittance of College Students, Given Their SAT Scores and Genders."
   ],
   "metadata": {
    "collapsed": false
   }
  },
  {
   "cell_type": "markdown",
   "source": [
    "## Importing the relevant libraries"
   ],
   "metadata": {
    "collapsed": false
   }
  },
  {
   "cell_type": "code",
   "execution_count": 1,
   "outputs": [],
   "source": [
    "# For this exercise, we will need the following libraries and modules\n",
    "import numpy as np\n",
    "import pandas as pd\n",
    "import statsmodels.api as sm\n",
    "import matplotlib.pyplot as plt\n",
    "import seaborn as sns\n",
    "sns.set() # This is done so that all plots will be visualised using the seaborn library by default.\n",
    "          # The seaborn library produces nicer looking plots than the matplotlib library."
   ],
   "metadata": {
    "collapsed": false
   }
  },
  {
   "cell_type": "markdown",
   "source": [
    "## Loading the raw data"
   ],
   "metadata": {
    "collapsed": false
   }
  },
  {
   "cell_type": "code",
   "execution_count": 2,
   "outputs": [
    {
     "data": {
      "text/plain": "    SAT Admitted  Gender\n0  1363       No    Male\n1  1792      Yes  Female\n2  1954      Yes  Female\n3  1653       No    Male\n4  1593       No    Male\n5  1755      Yes  Female\n6  1775      Yes  Female\n7  1887      Yes  Female\n8  1893      Yes  Female\n9  1580       No    Male",
      "text/html": "<div>\n<style scoped>\n    .dataframe tbody tr th:only-of-type {\n        vertical-align: middle;\n    }\n\n    .dataframe tbody tr th {\n        vertical-align: top;\n    }\n\n    .dataframe thead th {\n        text-align: right;\n    }\n</style>\n<table border=\"1\" class=\"dataframe\">\n  <thead>\n    <tr style=\"text-align: right;\">\n      <th></th>\n      <th>SAT</th>\n      <th>Admitted</th>\n      <th>Gender</th>\n    </tr>\n  </thead>\n  <tbody>\n    <tr>\n      <th>0</th>\n      <td>1363</td>\n      <td>No</td>\n      <td>Male</td>\n    </tr>\n    <tr>\n      <th>1</th>\n      <td>1792</td>\n      <td>Yes</td>\n      <td>Female</td>\n    </tr>\n    <tr>\n      <th>2</th>\n      <td>1954</td>\n      <td>Yes</td>\n      <td>Female</td>\n    </tr>\n    <tr>\n      <th>3</th>\n      <td>1653</td>\n      <td>No</td>\n      <td>Male</td>\n    </tr>\n    <tr>\n      <th>4</th>\n      <td>1593</td>\n      <td>No</td>\n      <td>Male</td>\n    </tr>\n    <tr>\n      <th>5</th>\n      <td>1755</td>\n      <td>Yes</td>\n      <td>Female</td>\n    </tr>\n    <tr>\n      <th>6</th>\n      <td>1775</td>\n      <td>Yes</td>\n      <td>Female</td>\n    </tr>\n    <tr>\n      <th>7</th>\n      <td>1887</td>\n      <td>Yes</td>\n      <td>Female</td>\n    </tr>\n    <tr>\n      <th>8</th>\n      <td>1893</td>\n      <td>Yes</td>\n      <td>Female</td>\n    </tr>\n    <tr>\n      <th>9</th>\n      <td>1580</td>\n      <td>No</td>\n      <td>Male</td>\n    </tr>\n  </tbody>\n</table>\n</div>"
     },
     "execution_count": 2,
     "metadata": {},
     "output_type": "execute_result"
    }
   ],
   "source": [
    "# We will now load the data from the .csv file in the project folder and store it in a data frame called raw_data.\n",
    "raw_data = pd.read_csv(\"/Users/GoriPNEUMA/Documents/DataSpell Files/My Portfolio/Logistic Regression Project 1/Predicting Admission Likelihood of College Students/Combined Admittance Data.csv\")\n",
    "\n",
    "# We will explore the top 10 rows of the data frame to see what our data looks like.\n",
    "raw_data.head(10)"
   ],
   "metadata": {
    "collapsed": false
   }
  },
  {
   "cell_type": "code",
   "execution_count": 3,
   "outputs": [
    {
     "data": {
      "text/plain": "['SAT', 'Admitted', 'Gender']"
     },
     "execution_count": 3,
     "metadata": {},
     "output_type": "execute_result"
    }
   ],
   "source": [
    "# I will rearrange the data to have the target variable (Admitted) as the first column,\n",
    "# followed by the predictor variables (SAT and Gender).\n",
    "raw_data_column_list = list(raw_data) # I list the column titles so I can manually copy and rearrange them.\n",
    "raw_data_column_list"
   ],
   "metadata": {
    "collapsed": false
   }
  },
  {
   "cell_type": "code",
   "execution_count": 4,
   "outputs": [
    {
     "data": {
      "text/plain": "    Admitted   SAT  Gender\n0         No  1363    Male\n1        Yes  1792  Female\n2        Yes  1954  Female\n3         No  1653    Male\n4         No  1593    Male\n..       ...   ...     ...\n182       No  1726    Male\n183      Yes  1876  Female\n184       No  1485    Male\n185       No  1500  Female\n186      Yes  1900    Male\n\n[187 rows x 3 columns]",
      "text/html": "<div>\n<style scoped>\n    .dataframe tbody tr th:only-of-type {\n        vertical-align: middle;\n    }\n\n    .dataframe tbody tr th {\n        vertical-align: top;\n    }\n\n    .dataframe thead th {\n        text-align: right;\n    }\n</style>\n<table border=\"1\" class=\"dataframe\">\n  <thead>\n    <tr style=\"text-align: right;\">\n      <th></th>\n      <th>Admitted</th>\n      <th>SAT</th>\n      <th>Gender</th>\n    </tr>\n  </thead>\n  <tbody>\n    <tr>\n      <th>0</th>\n      <td>No</td>\n      <td>1363</td>\n      <td>Male</td>\n    </tr>\n    <tr>\n      <th>1</th>\n      <td>Yes</td>\n      <td>1792</td>\n      <td>Female</td>\n    </tr>\n    <tr>\n      <th>2</th>\n      <td>Yes</td>\n      <td>1954</td>\n      <td>Female</td>\n    </tr>\n    <tr>\n      <th>3</th>\n      <td>No</td>\n      <td>1653</td>\n      <td>Male</td>\n    </tr>\n    <tr>\n      <th>4</th>\n      <td>No</td>\n      <td>1593</td>\n      <td>Male</td>\n    </tr>\n    <tr>\n      <th>...</th>\n      <td>...</td>\n      <td>...</td>\n      <td>...</td>\n    </tr>\n    <tr>\n      <th>182</th>\n      <td>No</td>\n      <td>1726</td>\n      <td>Male</td>\n    </tr>\n    <tr>\n      <th>183</th>\n      <td>Yes</td>\n      <td>1876</td>\n      <td>Female</td>\n    </tr>\n    <tr>\n      <th>184</th>\n      <td>No</td>\n      <td>1485</td>\n      <td>Male</td>\n    </tr>\n    <tr>\n      <th>185</th>\n      <td>No</td>\n      <td>1500</td>\n      <td>Female</td>\n    </tr>\n    <tr>\n      <th>186</th>\n      <td>Yes</td>\n      <td>1900</td>\n      <td>Male</td>\n    </tr>\n  </tbody>\n</table>\n<p>187 rows × 3 columns</p>\n</div>"
     },
     "execution_count": 4,
     "metadata": {},
     "output_type": "execute_result"
    }
   ],
   "source": [
    "# Rearranging the columns manually and storing the rearrangement in \"new_columns\":\n",
    "new_columns = [\"Admitted\",\n",
    "               \"SAT\",\n",
    "               \"Gender\"]\n",
    "data = raw_data[new_columns]\n",
    "data # data with rearranged columns."
   ],
   "metadata": {
    "collapsed": false
   }
  },
  {
   "cell_type": "markdown",
   "source": [
    "## Preprocessing (Data Cleaning)"
   ],
   "metadata": {
    "collapsed": false
   }
  },
  {
   "cell_type": "markdown",
   "source": [
    "### Exploring the descriptive statistics of the variables"
   ],
   "metadata": {
    "collapsed": false
   }
  },
  {
   "cell_type": "code",
   "execution_count": 5,
   "outputs": [
    {
     "data": {
      "text/plain": "       Admitted          SAT Gender\ncount       187   187.000000    187\nunique        2          NaN      2\ntop         Yes          NaN   Male\nfreq        107          NaN     98\nmean        NaN  1697.395722    NaN\nstd         NaN   183.282477    NaN\nmin         NaN  1323.000000    NaN\n25%         NaN  1549.500000    NaN\n50%         NaN  1702.000000    NaN\n75%         NaN  1846.000000    NaN\nmax         NaN  2050.000000    NaN",
      "text/html": "<div>\n<style scoped>\n    .dataframe tbody tr th:only-of-type {\n        vertical-align: middle;\n    }\n\n    .dataframe tbody tr th {\n        vertical-align: top;\n    }\n\n    .dataframe thead th {\n        text-align: right;\n    }\n</style>\n<table border=\"1\" class=\"dataframe\">\n  <thead>\n    <tr style=\"text-align: right;\">\n      <th></th>\n      <th>Admitted</th>\n      <th>SAT</th>\n      <th>Gender</th>\n    </tr>\n  </thead>\n  <tbody>\n    <tr>\n      <th>count</th>\n      <td>187</td>\n      <td>187.000000</td>\n      <td>187</td>\n    </tr>\n    <tr>\n      <th>unique</th>\n      <td>2</td>\n      <td>NaN</td>\n      <td>2</td>\n    </tr>\n    <tr>\n      <th>top</th>\n      <td>Yes</td>\n      <td>NaN</td>\n      <td>Male</td>\n    </tr>\n    <tr>\n      <th>freq</th>\n      <td>107</td>\n      <td>NaN</td>\n      <td>98</td>\n    </tr>\n    <tr>\n      <th>mean</th>\n      <td>NaN</td>\n      <td>1697.395722</td>\n      <td>NaN</td>\n    </tr>\n    <tr>\n      <th>std</th>\n      <td>NaN</td>\n      <td>183.282477</td>\n      <td>NaN</td>\n    </tr>\n    <tr>\n      <th>min</th>\n      <td>NaN</td>\n      <td>1323.000000</td>\n      <td>NaN</td>\n    </tr>\n    <tr>\n      <th>25%</th>\n      <td>NaN</td>\n      <td>1549.500000</td>\n      <td>NaN</td>\n    </tr>\n    <tr>\n      <th>50%</th>\n      <td>NaN</td>\n      <td>1702.000000</td>\n      <td>NaN</td>\n    </tr>\n    <tr>\n      <th>75%</th>\n      <td>NaN</td>\n      <td>1846.000000</td>\n      <td>NaN</td>\n    </tr>\n    <tr>\n      <th>max</th>\n      <td>NaN</td>\n      <td>2050.000000</td>\n      <td>NaN</td>\n    </tr>\n  </tbody>\n</table>\n</div>"
     },
     "execution_count": 5,
     "metadata": {},
     "output_type": "execute_result"
    }
   ],
   "source": [
    "data.describe(include='all') # The \"include\" argument is added so that available descriptive statistics can also be shown for\n",
    "                                 # categorical (non-numerical) variables.\n",
    "\n",
    "# Note that categorical variables/features obviously do not have some types of numerical descriptive values\n",
    "# (like mean, standard deviation, etc.), while numerical variables also do not have the categorical descriptive values,\n",
    "# hence the NaN in some cells in the table below."
   ],
   "metadata": {
    "collapsed": false
   }
  },
  {
   "cell_type": "markdown",
   "source": [
    "### Determining the variables of interest\n",
    "##### \"Admitted\" is our target and we will be using the other two variables: \"SAT\" and \"Gender\" as the features in our model."
   ],
   "metadata": {
    "collapsed": false
   }
  },
  {
   "cell_type": "markdown",
   "source": [
    "### Checking for missing values"
   ],
   "metadata": {
    "collapsed": false
   }
  },
  {
   "cell_type": "code",
   "execution_count": 6,
   "outputs": [
    {
     "data": {
      "text/plain": "Admitted    0\nSAT         0\nGender      0\ndtype: int64"
     },
     "execution_count": 6,
     "metadata": {},
     "output_type": "execute_result"
    }
   ],
   "source": [
    "data.isnull().sum() # Gives us the total number of missing values per variable."
   ],
   "metadata": {
    "collapsed": false
   }
  },
  {
   "cell_type": "markdown",
   "source": [
    "###### There are no missing values. Let's proceed."
   ],
   "metadata": {
    "collapsed": false
   }
  },
  {
   "cell_type": "markdown",
   "source": [
    "### Checking for duplicate values"
   ],
   "metadata": {
    "collapsed": false
   }
  },
  {
   "cell_type": "code",
   "execution_count": 7,
   "outputs": [
    {
     "data": {
      "text/plain": "13"
     },
     "execution_count": 7,
     "metadata": {},
     "output_type": "execute_result"
    }
   ],
   "source": [
    "# Check for total number of duplicate values:\n",
    "data.duplicated().sum()"
   ],
   "metadata": {
    "collapsed": false
   }
  },
  {
   "cell_type": "markdown",
   "source": [
    "#### We can see that we seem to have 13 duplicate values. However, examining our data realistically, we have just 3 columns and it is very possible to have multiple students with the same SAT scores and genders which will of course most likely lead to the same admission status. I have decided not to remove any perceived duplicate values because of the foregoing."
   ],
   "metadata": {
    "collapsed": false
   }
  },
  {
   "cell_type": "markdown",
   "source": [
    "### Exploring the PDF of the only numerical variable (SAT) to check for outliers"
   ],
   "metadata": {
    "collapsed": false
   }
  },
  {
   "cell_type": "code",
   "execution_count": 8,
   "outputs": [
    {
     "data": {
      "text/plain": "<seaborn.axisgrid.FacetGrid at 0x7f8c7a50e370>"
     },
     "execution_count": 8,
     "metadata": {},
     "output_type": "execute_result"
    },
    {
     "data": {
      "text/plain": "<Figure size 1080x576 with 1 Axes>",
      "image/png": "[encoded data removed]"
     },
     "metadata": {},
     "output_type": "display_data"
    }
   ],
   "source": [
    "sns.displot(data[\"SAT\"], kde = True, binwidth = 20, height=8, aspect=15/8) # \"Admitted\" PDF"
   ],
   "metadata": {
    "collapsed": false
   }
  },
  {
   "cell_type": "markdown",
   "source": [
    "#### The plot above shows a normal distribution. There aren't any significant outliers that can negatively impact our model. Let's proceed."
   ],
   "metadata": {
    "collapsed": false
   }
  },
  {
   "cell_type": "markdown",
   "source": [
    "#### Before we continue, we should map our binary variables accordingly - Yes and No to 1 and 0 respectively; Female and Male to 1 and 0 respectively."
   ],
   "metadata": {
    "collapsed": false
   }
  },
  {
   "cell_type": "code",
   "execution_count": 9,
   "outputs": [
    {
     "data": {
      "text/plain": "     Admitted   SAT  Gender\n0           0  1363       0\n1           1  1792       1\n2           1  1954       1\n3           0  1653       0\n4           0  1593       0\n..        ...   ...     ...\n182         0  1726       0\n183         1  1876       1\n184         0  1485       0\n185         0  1500       1\n186         1  1900       0\n\n[187 rows x 3 columns]",
      "text/html": "<div>\n<style scoped>\n    .dataframe tbody tr th:only-of-type {\n        vertical-align: middle;\n    }\n\n    .dataframe tbody tr th {\n        vertical-align: top;\n    }\n\n    .dataframe thead th {\n        text-align: right;\n    }\n</style>\n<table border=\"1\" class=\"dataframe\">\n  <thead>\n    <tr style=\"text-align: right;\">\n      <th></th>\n      <th>Admitted</th>\n      <th>SAT</th>\n      <th>Gender</th>\n    </tr>\n  </thead>\n  <tbody>\n    <tr>\n      <th>0</th>\n      <td>0</td>\n      <td>1363</td>\n      <td>0</td>\n    </tr>\n    <tr>\n      <th>1</th>\n      <td>1</td>\n      <td>1792</td>\n      <td>1</td>\n    </tr>\n    <tr>\n      <th>2</th>\n      <td>1</td>\n      <td>1954</td>\n      <td>1</td>\n    </tr>\n    <tr>\n      <th>3</th>\n      <td>0</td>\n      <td>1653</td>\n      <td>0</td>\n    </tr>\n    <tr>\n      <th>4</th>\n      <td>0</td>\n      <td>1593</td>\n      <td>0</td>\n    </tr>\n    <tr>\n      <th>...</th>\n      <td>...</td>\n      <td>...</td>\n      <td>...</td>\n    </tr>\n    <tr>\n      <th>182</th>\n      <td>0</td>\n      <td>1726</td>\n      <td>0</td>\n    </tr>\n    <tr>\n      <th>183</th>\n      <td>1</td>\n      <td>1876</td>\n      <td>1</td>\n    </tr>\n    <tr>\n      <th>184</th>\n      <td>0</td>\n      <td>1485</td>\n      <td>0</td>\n    </tr>\n    <tr>\n      <th>185</th>\n      <td>0</td>\n      <td>1500</td>\n      <td>1</td>\n    </tr>\n    <tr>\n      <th>186</th>\n      <td>1</td>\n      <td>1900</td>\n      <td>0</td>\n    </tr>\n  </tbody>\n</table>\n<p>187 rows × 3 columns</p>\n</div>"
     },
     "execution_count": 9,
     "metadata": {},
     "output_type": "execute_result"
    }
   ],
   "source": [
    "data[\"Admitted\"] = data[\"Admitted\"].map({\"Yes\": 1, \"No\": 0})\n",
    "data[\"Gender\"] = data[\"Gender\"].map({\"Female\": 1, \"Male\": 0})\n",
    "data"
   ],
   "metadata": {
    "collapsed": false
   }
  },
  {
   "cell_type": "markdown",
   "source": [
    "## Declare the dependent and the independent variables"
   ],
   "metadata": {
    "collapsed": false
   }
  },
  {
   "cell_type": "code",
   "execution_count": 10,
   "outputs": [],
   "source": [
    "y = data[\"Admitted\"]\n",
    "x1 = data[[\"SAT\", \"Gender\"]]\n",
    "\n",
    "x = sm.add_constant(x1) # Added constant (necessary step before running regression)"
   ],
   "metadata": {
    "collapsed": false
   }
  },
  {
   "cell_type": "markdown",
   "source": [
    "## Checking the Logistic Regression assumptions"
   ],
   "metadata": {
    "collapsed": false
   }
  },
  {
   "cell_type": "markdown",
   "source": [
    "### 1. The Response Variable is Binary\n",
    "##### Response variable only takes on two possible outcomes. Examples: Yes or No, Pass or Fail, Admitted or Not admitted."
   ],
   "metadata": {
    "collapsed": false
   }
  },
  {
   "cell_type": "markdown",
   "source": [
    "#### Our response variable here is \"Admitted\" and we can confirm from the descriptive statistics that it has only 2 unique values: Yes and No."
   ],
   "metadata": {
    "collapsed": false
   }
  },
  {
   "cell_type": "markdown",
   "source": [
    "### 2. Linearity\n",
    "##### There must be a linear relationship between each numerical independent variable and the Logit (log of odds of response variable).\n",
    "One of the most reliable ways to test for this is to use the Box-Tidwell Test.\n",
    "A statistically significant p-value of what is called the \"interaction term\" in the Box-Tidwell transformation means that the linearity assumption is violated.\n",
    "There is a native package in R to run this test, but there isn't one in Python so we will be doing it manually here.\n",
    "Box-Tidwell test only works for positive values (>0). However, as we have seen earlier that the minimum value for SAT is 1323, we are good to go."
   ],
   "metadata": {
    "collapsed": false
   }
  },
  {
   "cell_type": "code",
   "execution_count": 11,
   "outputs": [
    {
     "data": {
      "text/plain": "   Admitted   SAT  Gender   SAT:Log_SAT\n0         0  1363       0   9837.375397\n1         1  1792       1  13424.028968\n2         1  1954       1  14806.696509\n3         0  1653       0  12249.303753\n4         0  1593       0  11745.785276",
      "text/html": "<div>\n<style scoped>\n    .dataframe tbody tr th:only-of-type {\n        vertical-align: middle;\n    }\n\n    .dataframe tbody tr th {\n        vertical-align: top;\n    }\n\n    .dataframe thead th {\n        text-align: right;\n    }\n</style>\n<table border=\"1\" class=\"dataframe\">\n  <thead>\n    <tr style=\"text-align: right;\">\n      <th></th>\n      <th>Admitted</th>\n      <th>SAT</th>\n      <th>Gender</th>\n      <th>SAT:Log_SAT</th>\n    </tr>\n  </thead>\n  <tbody>\n    <tr>\n      <th>0</th>\n      <td>0</td>\n      <td>1363</td>\n      <td>0</td>\n      <td>9837.375397</td>\n    </tr>\n    <tr>\n      <th>1</th>\n      <td>1</td>\n      <td>1792</td>\n      <td>1</td>\n      <td>13424.028968</td>\n    </tr>\n    <tr>\n      <th>2</th>\n      <td>1</td>\n      <td>1954</td>\n      <td>1</td>\n      <td>14806.696509</td>\n    </tr>\n    <tr>\n      <th>3</th>\n      <td>0</td>\n      <td>1653</td>\n      <td>0</td>\n      <td>12249.303753</td>\n    </tr>\n    <tr>\n      <th>4</th>\n      <td>0</td>\n      <td>1593</td>\n      <td>0</td>\n      <td>11745.785276</td>\n    </tr>\n  </tbody>\n</table>\n</div>"
     },
     "execution_count": 11,
     "metadata": {},
     "output_type": "execute_result"
    }
   ],
   "source": [
    "# Logistic Regression with statsmodels - Inclusion of \"interaction term\" (logit transform) as part of Box-Tidwell test:\n",
    "\n",
    "data_lt = data.copy()  # lt means \"logit transform\".\n",
    "\n",
    "# Define numerical variable(s)\n",
    "numerical_var = [\"SAT\"]\n",
    "\n",
    "# Add logit transform interaction terms (natural log) for numerical variables i.e. SAT * Log(SAT)\n",
    "for var in numerical_var:\n",
    "    data_lt[f'{var}:Log_{var}'] = data_lt[var].apply(lambda x: x * np.log(x)) #np.log is natural log\n",
    "\n",
    "data_lt.head()"
   ],
   "metadata": {
    "collapsed": false
   }
  },
  {
   "cell_type": "code",
   "execution_count": 12,
   "outputs": [
    {
     "data": {
      "text/plain": "['SAT', 'SAT:Log_SAT']"
     },
     "execution_count": 12,
     "metadata": {},
     "output_type": "execute_result"
    }
   ],
   "source": [
    "# Keep only columns related to the numerical variable\n",
    "required_cols = numerical_var + data_lt.columns.tolist()[-len(numerical_var):]\n",
    "required_cols"
   ],
   "metadata": {
    "collapsed": false
   }
  },
  {
   "cell_type": "code",
   "execution_count": 13,
   "outputs": [
    {
     "name": "stdout",
     "output_type": "stream",
     "text": [
      "                 Generalized Linear Model Regression Results                  \n",
      "==============================================================================\n",
      "Dep. Variable:               Admitted   No. Observations:                  187\n",
      "Model:                            GLM   Df Residuals:                      184\n",
      "Model Family:                Binomial   Df Model:                            2\n",
      "Link Function:                  Logit   Scale:                          1.0000\n",
      "Method:                          IRLS   Log-Likelihood:                -30.885\n",
      "Date:                Sat, 15 Oct 2022   Deviance:                       61.770\n",
      "Time:                        17:48:53   Pearson chi2:                     79.6\n",
      "No. Iterations:                     9   Pseudo R-squ. (CS):             0.6448\n",
      "Covariance Type:            nonrobust                                         \n",
      "===============================================================================\n",
      "                  coef    std err          z      P>|z|      [0.025      0.975]\n",
      "-------------------------------------------------------------------------------\n",
      "SAT            -1.1634      1.516     -0.768      0.443      -4.134       1.807\n",
      "SAT:Log_SAT     0.1424      0.180      0.789      0.430      -0.211       0.496\n",
      "const         178.2038    294.321      0.605      0.545    -398.655     755.062\n",
      "===============================================================================\n"
     ]
    }
   ],
   "source": [
    "from statsmodels.genmod import families\n",
    "from statsmodels.genmod.generalized_linear_model import GLM\n",
    "\n",
    "# Redefine independent variable to include interaction terms\n",
    "x_lt = data_lt[required_cols]\n",
    "y_lt = data_lt[\"Admitted\"]\n",
    "\n",
    "# Add constant\n",
    "x_lt_constant = sm.add_constant(x_lt, prepend=False)\n",
    "\n",
    "# Build model and fit the data (using statsmodels' Logit)\n",
    "logit_results = GLM(y_lt, x_lt_constant, family=families.Binomial()).fit()\n",
    "\n",
    "# Display summary results\n",
    "print(logit_results.summary())"
   ],
   "metadata": {
    "collapsed": false
   }
  },
  {
   "cell_type": "markdown",
   "source": [
    "#### As we can see from the summary above, the p-value for the logit transformed interaction term of SAT (Log_SAT) is not statistically significant as it is more than 0.05. This indicates that our linearity assumption is satisfied/confirmed.\n",
    "#### As a further means of confirmation, we can do a visual check of the relevant plots..."
   ],
   "metadata": {
    "collapsed": false
   }
  },
  {
   "cell_type": "code",
   "execution_count": 14,
   "outputs": [
    {
     "data": {
      "text/plain": "<Figure size 1080x720 with 1 Axes>",
      "image/png": "[encoded data removed]"
     },
     "metadata": {},
     "output_type": "display_data"
    }
   ],
   "source": [
    "# Re-run logistic regression on original set of x and y variables:\n",
    "logit_results = GLM(y, x, family=families.Binomial()).fit()\n",
    "predicted = logit_results.predict(x)\n",
    "\n",
    "# Get log odds values\n",
    "log_odds = np.log(predicted / (1 - predicted))\n",
    "\n",
    "# Visualize numerical predictor variable vs logit values (SAT)\n",
    "plt.figure(figsize=(15,10))\n",
    "plt.scatter(x=x[\"SAT\"].values, y=log_odds)\n",
    "plt.xlabel(\"SAT\", c=\"green\", size=40)\n",
    "plt.ylabel(\"Log of Odds\", c=\"green\", size=40)\n",
    "plt.show()"
   ],
   "metadata": {
    "collapsed": false
   }
  },
  {
   "cell_type": "markdown",
   "source": [
    "#### We can confirm from the plot above that there is indeed a linear relationship between the independent numerical variable and the Logit (Log of Odds) of the response variable."
   ],
   "metadata": {
    "collapsed": false
   }
  },
  {
   "cell_type": "markdown",
   "source": [
    "### 3. No Strongly Influential Outliers\n",
    "##### We have already confirmed this assumption in the Data Preprocessing (Data Cleaning) stage much earlier. We can move on."
   ],
   "metadata": {
    "collapsed": false
   }
  },
  {
   "cell_type": "markdown",
   "source": [
    "### 4. No Multi-collinearity\n",
    "##### There should be little or no correlation among the independent variables.\n",
    "We will use the Variance Inflation Factors (VIFs) to determine whether multi-collinearity exists."
   ],
   "metadata": {
    "collapsed": false
   }
  },
  {
   "cell_type": "code",
   "execution_count": 15,
   "outputs": [
    {
     "data": {
      "text/plain": "         VIF Features\n0  95.492543    const\n1   1.177170      SAT\n2   1.177170   Gender",
      "text/html": "<div>\n<style scoped>\n    .dataframe tbody tr th:only-of-type {\n        vertical-align: middle;\n    }\n\n    .dataframe tbody tr th {\n        vertical-align: top;\n    }\n\n    .dataframe thead th {\n        text-align: right;\n    }\n</style>\n<table border=\"1\" class=\"dataframe\">\n  <thead>\n    <tr style=\"text-align: right;\">\n      <th></th>\n      <th>VIF</th>\n      <th>Features</th>\n    </tr>\n  </thead>\n  <tbody>\n    <tr>\n      <th>0</th>\n      <td>95.492543</td>\n      <td>const</td>\n    </tr>\n    <tr>\n      <th>1</th>\n      <td>1.177170</td>\n      <td>SAT</td>\n    </tr>\n    <tr>\n      <th>2</th>\n      <td>1.177170</td>\n      <td>Gender</td>\n    </tr>\n  </tbody>\n</table>\n</div>"
     },
     "execution_count": 15,
     "metadata": {},
     "output_type": "execute_result"
    }
   ],
   "source": [
    "from statsmodels.stats.outliers_influence import variance_inflation_factor\n",
    "from statsmodels.tools.tools import add_constant\n",
    "\n",
    "# First add constant:\n",
    "variables = data[[\"SAT\", \"Gender\"]]\n",
    "variables = add_constant(variables)\n",
    "\n",
    "# Then find VIFs:\n",
    "vif = pd.DataFrame()\n",
    "vif[\"VIF\"] = [variance_inflation_factor(variables.values, i) for i in range(variables.shape[1])]\n",
    "vif[\"Features\"] = variables.columns\n",
    "vif"
   ],
   "metadata": {
    "collapsed": false
   }
  },
  {
   "cell_type": "markdown",
   "source": [
    "#### Seeing that the VIFs of the predictor variables above are below 5, we can confirm that there is no multi-collinearity among them. Let us now move on."
   ],
   "metadata": {
    "collapsed": false
   }
  },
  {
   "cell_type": "markdown",
   "source": [
    "### 5. Independence of Observations or No Auto-correlation\n",
    "##### The observations should not come from repeated measurements of the same individual (e.g. before and after measurements) or be related to each other in any way.\n",
    "The way to confirm this assumption is to do a sort of time-series plot of the residuals and observe whether there is randomness in the plot. If there is, then this assumption is confirmed."
   ],
   "metadata": {
    "collapsed": false
   }
  },
  {
   "cell_type": "code",
   "execution_count": 16,
   "outputs": [
    {
     "name": "stdout",
     "output_type": "stream",
     "text": [
      "                 Generalized Linear Model Regression Results                  \n",
      "==============================================================================\n",
      "Dep. Variable:               Admitted   No. Observations:                  187\n",
      "Model:                            GLM   Df Residuals:                      184\n",
      "Model Family:                Binomial   Df Model:                            2\n",
      "Link Function:                  Logit   Scale:                          1.0000\n",
      "Method:                          IRLS   Log-Likelihood:                -25.484\n",
      "Date:                Sat, 15 Oct 2022   Deviance:                       50.968\n",
      "Time:                        17:48:53   Pearson chi2:                     63.6\n",
      "No. Iterations:                     8   Pseudo R-squ. (CS):             0.6647\n",
      "Covariance Type:            nonrobust                                         \n",
      "==============================================================================\n",
      "                 coef    std err          z      P>|z|      [0.025      0.975]\n",
      "------------------------------------------------------------------------------\n",
      "const        -57.1512     11.370     -5.026      0.000     -79.436     -34.866\n",
      "SAT            0.0338      0.007      4.997      0.000       0.021       0.047\n",
      "Gender         2.4163      0.798      3.027      0.002       0.852       3.981\n",
      "==============================================================================\n"
     ]
    }
   ],
   "source": [
    "# Setup logistic regression model (using GLM method so that we can retrieve residuals):\n",
    "logit_model = GLM(y, x, family=families.Binomial())\n",
    "logit_results = logit_model.fit()\n",
    "print(logit_results.summary())"
   ],
   "metadata": {
    "collapsed": false
   }
  },
  {
   "cell_type": "code",
   "execution_count": 17,
   "outputs": [
    {
     "data": {
      "text/plain": "<Figure size 720x576 with 1 Axes>",
      "image/png": "[encoded data removed]"
     },
     "metadata": {},
     "output_type": "display_data"
    }
   ],
   "source": [
    "from scipy import stats\n",
    "\n",
    "# Check residuals' time-series plot:\n",
    "\n",
    "fig = plt.figure(figsize=(10,8))\n",
    "ax = fig.add_subplot(111, title=\"Residual \\\"Time-Series\\\" Plot\",\n",
    "                     xlabel=\"Index Number\", ylabel=\"Deviance Residuals\")\n",
    "\n",
    "# ax.plot(x.index.tolist(), stats.zscore(logit_results.resid_pearson))\n",
    "ax.plot(x.index.tolist(), stats.zscore(logit_results.resid_deviance)) # Similar to code above\n",
    "plt.axhline(y=0, ls=\"--\", lw=2, color='red');"
   ],
   "metadata": {
    "collapsed": false
   }
  },
  {
   "cell_type": "markdown",
   "source": [
    "#### We can observe the randomness in the plot above. This confirms our assumption of independence of observations."
   ],
   "metadata": {
    "collapsed": false
   }
  },
  {
   "cell_type": "markdown",
   "source": [
    "### 6. Sufficiently Large Sample Size\n",
    "##### The sample size of the data set should be large enough to draw valid conclusions from the fitted logistic regression model.\n",
    "Estimating the right sample size for logistic regressions is not always so straightforward. Here is a link that contains academic references that specify a generally accepted formula: https://www.medcalc.org/manual/logistic-regression.php\n",
    "\n",
    "Under the subsection: Sample size considerations, it is suggested to follow the guideline put forth by Peduzzi et al. (1996)...\n",
    "\n",
    "...if p represents the smaller proportion of positive or negative outcomes, k represents the number of independent variables and N represents the minimum number of observations required, then:\n",
    "\n",
    "$ N = \\frac{10k}{p} $\n",
    "\n",
    "However, if the result is less than 100, then we should increase our sample size to at least 100 as suggested by Long (1997).\n",
    "\n",
    "_Note: You can find the full references at the bottom of the linked webpage._"
   ],
   "metadata": {
    "collapsed": false
   }
  },
  {
   "cell_type": "markdown",
   "source": [
    "In our case,\n",
    "$ k = 2\\, independent\\, variables $ - SAT and Gender\n",
    "$ p = \\frac{80}{187} = 0.43 $ (80 of the 187 outcomes are \"No\" while 107 are \"Yes\")\n",
    "\n",
    "$ Therefore:\\\\ $\n",
    "$ N = \\frac{10*2}{0.43} = 46.5 $\n",
    "\n",
    "This should imply that our sample size of 187 is sufficient in our case."
   ],
   "metadata": {
    "collapsed": false
   }
  },
  {
   "cell_type": "markdown",
   "source": [
    "### All Logistic Regression assumptions have now been verified. We can now continue with our model."
   ],
   "metadata": {
    "collapsed": false
   }
  },
  {
   "cell_type": "code",
   "execution_count": 18,
   "outputs": [
    {
     "data": {
      "text/plain": "     Admitted   SAT  Gender\n0           0  1363       0\n1           1  1792       1\n2           1  1954       1\n3           0  1653       0\n4           0  1593       0\n..        ...   ...     ...\n182         0  1726       0\n183         1  1876       1\n184         0  1485       0\n185         0  1500       1\n186         1  1900       0\n\n[187 rows x 3 columns]",
      "text/html": "<div>\n<style scoped>\n    .dataframe tbody tr th:only-of-type {\n        vertical-align: middle;\n    }\n\n    .dataframe tbody tr th {\n        vertical-align: top;\n    }\n\n    .dataframe thead th {\n        text-align: right;\n    }\n</style>\n<table border=\"1\" class=\"dataframe\">\n  <thead>\n    <tr style=\"text-align: right;\">\n      <th></th>\n      <th>Admitted</th>\n      <th>SAT</th>\n      <th>Gender</th>\n    </tr>\n  </thead>\n  <tbody>\n    <tr>\n      <th>0</th>\n      <td>0</td>\n      <td>1363</td>\n      <td>0</td>\n    </tr>\n    <tr>\n      <th>1</th>\n      <td>1</td>\n      <td>1792</td>\n      <td>1</td>\n    </tr>\n    <tr>\n      <th>2</th>\n      <td>1</td>\n      <td>1954</td>\n      <td>1</td>\n    </tr>\n    <tr>\n      <th>3</th>\n      <td>0</td>\n      <td>1653</td>\n      <td>0</td>\n    </tr>\n    <tr>\n      <th>4</th>\n      <td>0</td>\n      <td>1593</td>\n      <td>0</td>\n    </tr>\n    <tr>\n      <th>...</th>\n      <td>...</td>\n      <td>...</td>\n      <td>...</td>\n    </tr>\n    <tr>\n      <th>182</th>\n      <td>0</td>\n      <td>1726</td>\n      <td>0</td>\n    </tr>\n    <tr>\n      <th>183</th>\n      <td>1</td>\n      <td>1876</td>\n      <td>1</td>\n    </tr>\n    <tr>\n      <th>184</th>\n      <td>0</td>\n      <td>1485</td>\n      <td>0</td>\n    </tr>\n    <tr>\n      <th>185</th>\n      <td>0</td>\n      <td>1500</td>\n      <td>1</td>\n    </tr>\n    <tr>\n      <th>186</th>\n      <td>1</td>\n      <td>1900</td>\n      <td>0</td>\n    </tr>\n  </tbody>\n</table>\n<p>187 rows × 3 columns</p>\n</div>"
     },
     "execution_count": 18,
     "metadata": {},
     "output_type": "execute_result"
    }
   ],
   "source": [
    "# Let's have a quick look at our data set once again before we proceed\n",
    "data"
   ],
   "metadata": {
    "collapsed": false
   }
  },
  {
   "cell_type": "markdown",
   "source": [
    "## Train Test Split\n",
    "#### We will now split our data so we can have a subset of it to test the accuracy of our model at the end."
   ],
   "metadata": {
    "collapsed": false
   }
  },
  {
   "cell_type": "code",
   "execution_count": 19,
   "outputs": [],
   "source": [
    "# First declare the inputs and targets:\n",
    "targets = data[\"Admitted\"]\n",
    "inputs = data.drop([\"Admitted\"],axis=1)"
   ],
   "metadata": {
    "collapsed": false
   }
  },
  {
   "cell_type": "code",
   "execution_count": 20,
   "outputs": [],
   "source": [
    "# Importing the module for the split:\n",
    "from sklearn.model_selection import train_test_split\n",
    "\n",
    "# I will split the data with an 80%:20% split and a specified random state.\n",
    "# We use the specified random state to ensure we always get the exact same split...\n",
    "# everytime we run/re-run this part of our code throughout this model building exercise.\n",
    "# As I do in all my projects, I will use 16 as my random state - my alias has 16 characters :)\n",
    "x_train, x_test, y_train, y_test = train_test_split(inputs, targets, test_size=0.2, random_state=16)"
   ],
   "metadata": {
    "collapsed": false
   }
  },
  {
   "cell_type": "markdown",
   "source": [
    "## Declare the dependent and the independent variables (using train data this time)"
   ],
   "metadata": {
    "collapsed": false
   }
  },
  {
   "cell_type": "code",
   "execution_count": 21,
   "outputs": [
    {
     "data": {
      "text/plain": "168    0\n133    0\n11     1\n53     0\n42     1\n      ..\n123    0\n65     0\n69     0\n121    0\n169    1\nName: Admitted, Length: 149, dtype: int64"
     },
     "execution_count": 21,
     "metadata": {},
     "output_type": "execute_result"
    }
   ],
   "source": [
    "y_train"
   ],
   "metadata": {
    "collapsed": false
   }
  },
  {
   "cell_type": "code",
   "execution_count": 22,
   "outputs": [
    {
     "data": {
      "text/plain": "      SAT  Gender\n168  1323       0\n133  1532       0\n11   1880       1\n53   1543       1\n42   1931       0\n..    ...     ...\n123  1430       0\n65   1435       0\n69   1435       0\n121  1572       0\n169  1725       1\n\n[149 rows x 2 columns]",
      "text/html": "<div>\n<style scoped>\n    .dataframe tbody tr th:only-of-type {\n        vertical-align: middle;\n    }\n\n    .dataframe tbody tr th {\n        vertical-align: top;\n    }\n\n    .dataframe thead th {\n        text-align: right;\n    }\n</style>\n<table border=\"1\" class=\"dataframe\">\n  <thead>\n    <tr style=\"text-align: right;\">\n      <th></th>\n      <th>SAT</th>\n      <th>Gender</th>\n    </tr>\n  </thead>\n  <tbody>\n    <tr>\n      <th>168</th>\n      <td>1323</td>\n      <td>0</td>\n    </tr>\n    <tr>\n      <th>133</th>\n      <td>1532</td>\n      <td>0</td>\n    </tr>\n    <tr>\n      <th>11</th>\n      <td>1880</td>\n      <td>1</td>\n    </tr>\n    <tr>\n      <th>53</th>\n      <td>1543</td>\n      <td>1</td>\n    </tr>\n    <tr>\n      <th>42</th>\n      <td>1931</td>\n      <td>0</td>\n    </tr>\n    <tr>\n      <th>...</th>\n      <td>...</td>\n      <td>...</td>\n    </tr>\n    <tr>\n      <th>123</th>\n      <td>1430</td>\n      <td>0</td>\n    </tr>\n    <tr>\n      <th>65</th>\n      <td>1435</td>\n      <td>0</td>\n    </tr>\n    <tr>\n      <th>69</th>\n      <td>1435</td>\n      <td>0</td>\n    </tr>\n    <tr>\n      <th>121</th>\n      <td>1572</td>\n      <td>0</td>\n    </tr>\n    <tr>\n      <th>169</th>\n      <td>1725</td>\n      <td>1</td>\n    </tr>\n  </tbody>\n</table>\n<p>149 rows × 2 columns</p>\n</div>"
     },
     "execution_count": 22,
     "metadata": {},
     "output_type": "execute_result"
    }
   ],
   "source": [
    "x_train"
   ],
   "metadata": {
    "collapsed": false
   }
  },
  {
   "cell_type": "code",
   "execution_count": 23,
   "outputs": [],
   "source": [
    "y = y_train\n",
    "x1 = x_train"
   ],
   "metadata": {
    "collapsed": false
   }
  },
  {
   "cell_type": "markdown",
   "source": [
    "## Run the Logistic Regression"
   ],
   "metadata": {
    "collapsed": false
   }
  },
  {
   "cell_type": "code",
   "execution_count": 24,
   "outputs": [
    {
     "name": "stdout",
     "output_type": "stream",
     "text": [
      "Optimization terminated successfully.\n",
      "         Current function value: 0.123489\n",
      "         Iterations 10\n"
     ]
    },
    {
     "data": {
      "text/plain": "<class 'statsmodels.iolib.summary.Summary'>\n\"\"\"\n                           Logit Regression Results                           \n==============================================================================\nDep. Variable:               Admitted   No. Observations:                  149\nModel:                          Logit   Df Residuals:                      146\nMethod:                           MLE   Df Model:                            2\nDate:                Sat, 15 Oct 2022   Pseudo R-squ.:                  0.8181\nTime:                        17:48:54   Log-Likelihood:                -18.400\nconverged:                       True   LL-Null:                       -101.17\nCovariance Type:            nonrobust   LLR p-value:                 1.129e-36\n==============================================================================\n                 coef    std err          z      P>|z|      [0.025      0.975]\n------------------------------------------------------------------------------\nconst        -61.6174     13.870     -4.443      0.000     -88.802     -34.433\nSAT            0.0364      0.008      4.421      0.000       0.020       0.053\nGender         3.1154      1.005      3.098      0.002       1.145       5.086\n==============================================================================\n\nPossibly complete quasi-separation: A fraction 0.23 of observations can be\nperfectly predicted. This might indicate that there is complete\nquasi-separation. In this case some parameters will not be identified.\n\"\"\"",
      "text/html": "<table class=\"simpletable\">\n<caption>Logit Regression Results</caption>\n<tr>\n  <th>Dep. Variable:</th>       <td>Admitted</td>     <th>  No. Observations:  </th>  <td>   149</td>  \n</tr>\n<tr>\n  <th>Model:</th>                 <td>Logit</td>      <th>  Df Residuals:      </th>  <td>   146</td>  \n</tr>\n<tr>\n  <th>Method:</th>                 <td>MLE</td>       <th>  Df Model:          </th>  <td>     2</td>  \n</tr>\n<tr>\n  <th>Date:</th>            <td>Sat, 15 Oct 2022</td> <th>  Pseudo R-squ.:     </th>  <td>0.8181</td>  \n</tr>\n<tr>\n  <th>Time:</th>                <td>17:48:54</td>     <th>  Log-Likelihood:    </th> <td> -18.400</td> \n</tr>\n<tr>\n  <th>converged:</th>             <td>True</td>       <th>  LL-Null:           </th> <td> -101.17</td> \n</tr>\n<tr>\n  <th>Covariance Type:</th>     <td>nonrobust</td>    <th>  LLR p-value:       </th> <td>1.129e-36</td>\n</tr>\n</table>\n<table class=\"simpletable\">\n<tr>\n     <td></td>       <th>coef</th>     <th>std err</th>      <th>z</th>      <th>P>|z|</th>  <th>[0.025</th>    <th>0.975]</th>  \n</tr>\n<tr>\n  <th>const</th>  <td>  -61.6174</td> <td>   13.870</td> <td>   -4.443</td> <td> 0.000</td> <td>  -88.802</td> <td>  -34.433</td>\n</tr>\n<tr>\n  <th>SAT</th>    <td>    0.0364</td> <td>    0.008</td> <td>    4.421</td> <td> 0.000</td> <td>    0.020</td> <td>    0.053</td>\n</tr>\n<tr>\n  <th>Gender</th> <td>    3.1154</td> <td>    1.005</td> <td>    3.098</td> <td> 0.002</td> <td>    1.145</td> <td>    5.086</td>\n</tr>\n</table><br/><br/>Possibly complete quasi-separation: A fraction 0.23 of observations can be<br/>perfectly predicted. This might indicate that there is complete<br/>quasi-separation. In this case some parameters will not be identified."
     },
     "execution_count": 24,
     "metadata": {},
     "output_type": "execute_result"
    }
   ],
   "source": [
    "x = sm.add_constant(x1) # Added constant (necessary step before running regression)\n",
    "reg_log = sm.Logit(y,x)\n",
    "results_log = reg_log.fit()\n",
    "results_log.summary()"
   ],
   "metadata": {
    "collapsed": false
   }
  },
  {
   "cell_type": "markdown",
   "source": [
    "## Interpretations of the Logit Regression Results\n",
    "#### The variables’ coefficients in the summary table are log (natural log) of odds. To obtain the odds so we can interpret the results, we must find the exponential."
   ],
   "metadata": {
    "collapsed": false
   }
  },
  {
   "cell_type": "markdown",
   "source": [
    "##### Let's start with the interpretation of the SAT variable..."
   ],
   "metadata": {
    "collapsed": false
   }
  },
  {
   "cell_type": "code",
   "execution_count": 25,
   "outputs": [
    {
     "data": {
      "text/plain": "1.0370705917730465"
     },
     "execution_count": 25,
     "metadata": {},
     "output_type": "execute_result"
    }
   ],
   "source": [
    "np.exp(0.0364)"
   ],
   "metadata": {
    "collapsed": false
   }
  },
  {
   "cell_type": "markdown",
   "source": [
    "The interpretation of the result above is this: Examining two students \"A\" & \"B\" of the same gender, the odds of A getting admitted over B increases by 1.037 of B's odds, for every unit increase in A's SAT score over B's."
   ],
   "metadata": {
    "collapsed": false
   }
  },
  {
   "cell_type": "markdown",
   "source": [
    "Let's say we want to check by how much a student's odds of getting admitted will increase if their SAT score increased by 50 points, we would compute this as below:"
   ],
   "metadata": {
    "collapsed": false
   }
  },
  {
   "cell_type": "code",
   "execution_count": 26,
   "outputs": [
    {
     "data": {
      "text/plain": "6.171858449883554"
     },
     "execution_count": 26,
     "metadata": {},
     "output_type": "execute_result"
    }
   ],
   "source": [
    "np.exp(0.0364*50)"
   ],
   "metadata": {
    "collapsed": false
   }
  },
  {
   "cell_type": "markdown",
   "source": [
    "If Lisa scored 1650 and Jennifer scored 1700, the above result shows that Jennifer's odds of getting admitted increases to 6.17 of Lisa's admittance odds because Jennifer scored 50 points more than Lisa."
   ],
   "metadata": {
    "collapsed": false
   }
  },
  {
   "cell_type": "markdown",
   "source": [
    "##### Now let's do the interpretation of the Gender variable..."
   ],
   "metadata": {
    "collapsed": false
   }
  },
  {
   "cell_type": "code",
   "execution_count": 27,
   "outputs": [
    {
     "data": {
      "text/plain": "22.542445528550854"
     },
     "execution_count": 27,
     "metadata": {},
     "output_type": "execute_result"
    }
   ],
   "source": [
    "np.exp(3.1154)"
   ],
   "metadata": {
    "collapsed": false
   }
  },
  {
   "cell_type": "markdown",
   "source": [
    "The interpretation of the result above is this: For students of different genders (male - 0 and female - 1) with the same SAT score, the female students' odds of getting admitted is 22.54 times that of the male students'.\n",
    "\n",
    "So if George and Kate both scored 1660, Kate's odds of getting admitted is 22 times George's odds of getting admitted."
   ],
   "metadata": {
    "collapsed": false
   }
  },
  {
   "cell_type": "markdown",
   "source": [
    "#### Something we can also do is to predict the likelihood/probability of admission of a student given their SAT score and gender."
   ],
   "metadata": {
    "collapsed": false
   }
  },
  {
   "cell_type": "code",
   "execution_count": 28,
   "outputs": [
    {
     "data": {
      "text/plain": "0    0.168494\ndtype: float64"
     },
     "execution_count": 28,
     "metadata": {},
     "output_type": "execute_result"
    }
   ],
   "source": [
    "to_predict = pd.DataFrame({\"const\": [1], \"SAT\": [1650], \"Gender\": [0]}) # Male student with 1650 SAT score.\n",
    "results_log.predict(to_predict)"
   ],
   "metadata": {
    "collapsed": false
   }
  },
  {
   "cell_type": "markdown",
   "source": [
    "The above translates thus: The chances of a male student with an SAT score of 1650 getting admitted is 0.168 or 16.8%."
   ],
   "metadata": {
    "collapsed": false
   }
  },
  {
   "cell_type": "code",
   "execution_count": 29,
   "outputs": [
    {
     "data": {
      "text/plain": "0    0.820397\ndtype: float64"
     },
     "execution_count": 29,
     "metadata": {},
     "output_type": "execute_result"
    }
   ],
   "source": [
    "to_predict = pd.DataFrame({\"const\": [1], \"SAT\": [1650], \"Gender\": [1]}) # Female student with 1650 SAT score.\n",
    "results_log.predict(to_predict)"
   ],
   "metadata": {
    "collapsed": false
   }
  },
  {
   "cell_type": "markdown",
   "source": [
    "The above translates thus: The chances of a female student with an SAT score of 1650 getting admitted is 0.82 or 82%."
   ],
   "metadata": {
    "collapsed": false
   }
  },
  {
   "cell_type": "markdown",
   "source": [
    "#### We can set a threshold and determine whether a student will be admitted or not (1 or 0) given their gender and SAT score. We will use 11 different scores between 1600 and 1700 (inclusive) for both male and female students as an illustration."
   ],
   "metadata": {
    "collapsed": false
   }
  },
  {
   "cell_type": "code",
   "execution_count": 30,
   "outputs": [
    {
     "data": {
      "text/plain": "0     0\n1     1\n2     1\n3     1\n4     1\n5     1\n6     1\n7     1\n8     1\n9     1\n10    1\n11    0\n12    0\n13    0\n14    0\n15    0\n16    0\n17    0\n18    0\n19    0\n20    0\n21    1\ndtype: int64"
     },
     "execution_count": 30,
     "metadata": {},
     "output_type": "execute_result"
    }
   ],
   "source": [
    "to_predict = pd.DataFrame({\"const\": [1,1,1,1,1,1,1,1,1,1,1,1,1,1,1,1,1,1,1,1,1,1],\n",
    "                           \"SAT\": [1600,1610,1620,1630,1640,1650,1660,1670,1680,1690,\n",
    "                                   1700, 1600,1610,1620,1630,1640,1650,1660,1670, 1680, 1690, 1700],\n",
    "                           \"Gender\": [1,1,1,1,1,1,1,1,1,1,1,0,0,0,0,0,0,0,0,0,0,0]}) # Be sure to add\n",
    "                            # the constant column of 1's to the data frame\n",
    "\n",
    "probabilities = results_log.predict(to_predict)\n",
    "threshold = 0.5\n",
    "predicted = (probabilities > threshold).astype(int) # This implies that any result above the set\n",
    "                                                    # threshold of 0.5 will be taken as 1 (admitted)\n",
    "                                                    # and a result below the threshold will be taken\n",
    "                                                    # as 0 (not admitted).\n",
    "predicted"
   ],
   "metadata": {
    "collapsed": false
   }
  },
  {
   "cell_type": "markdown",
   "source": [
    "#### Let's format our data frame to make it more readable/understandable"
   ],
   "metadata": {
    "collapsed": false
   }
  },
  {
   "cell_type": "code",
   "execution_count": 31,
   "outputs": [
    {
     "data": {
      "text/plain": "    SAT Score  Gender Admitted?\n0        1600  Female        No\n1        1610  Female       Yes\n2        1620  Female       Yes\n3        1630  Female       Yes\n4        1640  Female       Yes\n5        1650  Female       Yes\n6        1660  Female       Yes\n7        1670  Female       Yes\n8        1680  Female       Yes\n9        1690  Female       Yes\n10       1700  Female       Yes\n11       1600    Male        No\n12       1610    Male        No\n13       1620    Male        No\n14       1630    Male        No\n15       1640    Male        No\n16       1650    Male        No\n17       1660    Male        No\n18       1670    Male        No\n19       1680    Male        No\n20       1690    Male        No\n21       1700    Male       Yes",
      "text/html": "<div>\n<style scoped>\n    .dataframe tbody tr th:only-of-type {\n        vertical-align: middle;\n    }\n\n    .dataframe tbody tr th {\n        vertical-align: top;\n    }\n\n    .dataframe thead th {\n        text-align: right;\n    }\n</style>\n<table border=\"1\" class=\"dataframe\">\n  <thead>\n    <tr style=\"text-align: right;\">\n      <th></th>\n      <th>SAT Score</th>\n      <th>Gender</th>\n      <th>Admitted?</th>\n    </tr>\n  </thead>\n  <tbody>\n    <tr>\n      <th>0</th>\n      <td>1600</td>\n      <td>Female</td>\n      <td>No</td>\n    </tr>\n    <tr>\n      <th>1</th>\n      <td>1610</td>\n      <td>Female</td>\n      <td>Yes</td>\n    </tr>\n    <tr>\n      <th>2</th>\n      <td>1620</td>\n      <td>Female</td>\n      <td>Yes</td>\n    </tr>\n    <tr>\n      <th>3</th>\n      <td>1630</td>\n      <td>Female</td>\n      <td>Yes</td>\n    </tr>\n    <tr>\n      <th>4</th>\n      <td>1640</td>\n      <td>Female</td>\n      <td>Yes</td>\n    </tr>\n    <tr>\n      <th>5</th>\n      <td>1650</td>\n      <td>Female</td>\n      <td>Yes</td>\n    </tr>\n    <tr>\n      <th>6</th>\n      <td>1660</td>\n      <td>Female</td>\n      <td>Yes</td>\n    </tr>\n    <tr>\n      <th>7</th>\n      <td>1670</td>\n      <td>Female</td>\n      <td>Yes</td>\n    </tr>\n    <tr>\n      <th>8</th>\n      <td>1680</td>\n      <td>Female</td>\n      <td>Yes</td>\n    </tr>\n    <tr>\n      <th>9</th>\n      <td>1690</td>\n      <td>Female</td>\n      <td>Yes</td>\n    </tr>\n    <tr>\n      <th>10</th>\n      <td>1700</td>\n      <td>Female</td>\n      <td>Yes</td>\n    </tr>\n    <tr>\n      <th>11</th>\n      <td>1600</td>\n      <td>Male</td>\n      <td>No</td>\n    </tr>\n    <tr>\n      <th>12</th>\n      <td>1610</td>\n      <td>Male</td>\n      <td>No</td>\n    </tr>\n    <tr>\n      <th>13</th>\n      <td>1620</td>\n      <td>Male</td>\n      <td>No</td>\n    </tr>\n    <tr>\n      <th>14</th>\n      <td>1630</td>\n      <td>Male</td>\n      <td>No</td>\n    </tr>\n    <tr>\n      <th>15</th>\n      <td>1640</td>\n      <td>Male</td>\n      <td>No</td>\n    </tr>\n    <tr>\n      <th>16</th>\n      <td>1650</td>\n      <td>Male</td>\n      <td>No</td>\n    </tr>\n    <tr>\n      <th>17</th>\n      <td>1660</td>\n      <td>Male</td>\n      <td>No</td>\n    </tr>\n    <tr>\n      <th>18</th>\n      <td>1670</td>\n      <td>Male</td>\n      <td>No</td>\n    </tr>\n    <tr>\n      <th>19</th>\n      <td>1680</td>\n      <td>Male</td>\n      <td>No</td>\n    </tr>\n    <tr>\n      <th>20</th>\n      <td>1690</td>\n      <td>Male</td>\n      <td>No</td>\n    </tr>\n    <tr>\n      <th>21</th>\n      <td>1700</td>\n      <td>Male</td>\n      <td>Yes</td>\n    </tr>\n  </tbody>\n</table>\n</div>"
     },
     "execution_count": 31,
     "metadata": {},
     "output_type": "execute_result"
    }
   ],
   "source": [
    "summary = pd.DataFrame({\"SAT Score\": to_predict[\"SAT\"],\n",
    "                        \"Gender\": to_predict[\"Gender\"].map({1: \"Female\", 0: \"Male\"}),\n",
    "                        \"Admitted?\": predicted.map({0: \"No\", 1: \"Yes\"})})\n",
    "summary"
   ],
   "metadata": {
    "collapsed": false
   }
  },
  {
   "cell_type": "markdown",
   "source": [
    "#### We can see that only one female student who scored 1600 was not admitted while other female students who scored between 1610 and 1700 were all admitted. On the other hand, only one male student who scored 1700 was admitted while other male students who scored between 1600 and 1690 were not admitted.\n",
    "\n",
    "#### This result seems to make sense if we consider these students to be prospective STEM (Science, Technology, Engineering and Mathematics) college students. As the representation of females in these fields is usually lower than males, this college has decided to encourage enrollment from female students by lowering the bar for admission for them. The opposite is also likely to occur for course admissions in the Arts and Social Sciences where male representation is usually lower."
   ],
   "metadata": {
    "collapsed": false
   }
  },
  {
   "cell_type": "markdown",
   "source": [
    "## Calculating the Accuracy of Our Model"
   ],
   "metadata": {
    "collapsed": false
   }
  },
  {
   "cell_type": "markdown",
   "source": [
    "#### What we will do is use our model to predict the outcomes (admitted or not admitted) and compare the results to the actual outcomes from the data set."
   ],
   "metadata": {
    "collapsed": false
   }
  },
  {
   "cell_type": "code",
   "execution_count": 32,
   "outputs": [
    {
     "data": {
      "text/plain": "array([1.38277337e-06, 2.76277734e-03, 9.99949101e-01, 8.52367125e-02,\n       9.99820549e-01, 9.98751407e-01, 9.99999069e-01, 2.45372838e-01,\n       9.99997771e-01, 9.74465591e-01, 5.30399331e-03, 9.99945966e-01,\n       1.68276409e-04, 9.99980938e-01, 3.97589912e-04, 7.62831750e-01,\n       9.99992861e-01, 9.96594459e-01, 1.41847496e-05, 8.83993631e-06,\n       6.94894706e-04, 9.16220919e-01, 9.96011898e-01, 6.83159248e-03,\n       9.99919382e-01, 3.74533860e-04, 7.18497019e-01, 2.09311845e-04,\n       5.23589412e-03, 9.98023770e-01, 2.54215746e-02, 6.14426087e-06,\n       9.95449372e-01, 9.95220184e-01, 6.75189399e-01, 1.31894284e-05,\n       5.11548949e-03, 9.99997422e-01, 9.99804486e-01, 9.99833139e-01,\n       6.35527074e-03, 9.96290703e-01, 1.85337381e-03, 5.73277091e-01,\n       9.99445982e-01, 5.00980331e-04, 7.89313939e-03, 3.48262223e-04,\n       2.79993294e-04, 1.50819195e-02, 9.96594459e-01, 9.46087222e-01,\n       9.99998334e-01, 9.98811478e-01, 9.99882500e-01, 7.64288618e-06,\n       8.76051364e-01, 2.01836166e-04, 9.99999699e-01, 1.01710641e-01,\n       9.93465900e-01, 9.98138200e-01, 1.84341030e-01, 9.99998393e-01,\n       9.96550084e-01, 9.99996793e-01, 3.23832810e-04, 9.84298005e-01,\n       9.90156328e-01, 9.99992953e-01, 1.89873479e-01, 1.07302258e-01,\n       8.85065686e-01, 9.66132697e-01, 9.16220919e-01, 4.19904765e-01,\n       9.97122154e-01, 9.33807856e-01, 9.77563563e-01, 9.99873634e-01,\n       8.68273098e-03, 9.99697512e-01, 2.66136094e-01, 9.90282144e-01,\n       9.99326862e-01, 9.99996551e-01, 9.99999843e-01, 9.29166515e-01,\n       2.52170688e-01, 3.97009085e-03, 9.80788983e-01, 6.46165918e-04,\n       1.14092264e-03, 9.53622950e-01, 2.54215746e-02, 9.90156328e-01,\n       9.99990096e-01, 9.83133047e-01, 7.88143873e-01, 8.83737577e-01,\n       9.97685143e-01, 9.96153816e-01, 9.99998073e-01, 9.99898410e-01,\n       9.99609828e-01, 9.98502719e-01, 9.85569627e-01, 7.32975390e-01,\n       9.99983732e-01, 9.84349122e-02, 9.99999854e-01, 1.30069997e-01,\n       9.99848431e-01, 9.99999625e-01, 9.99931909e-01, 4.91962387e-01,\n       4.33169505e-04, 4.64738036e-01, 2.00740180e-02, 1.71795899e-01,\n       9.99968279e-01, 2.06314351e-06, 7.54562168e-02, 2.06663804e-03,\n       9.99842817e-01, 2.66434637e-03, 4.37722200e-01, 9.83133047e-01,\n       9.84497526e-01, 9.97159193e-01, 9.18971232e-01, 9.99941129e-01,\n       2.48485752e-02, 9.83725774e-01, 1.24293900e-03, 2.31453237e-02,\n       1.01710641e-01, 9.99993362e-01, 1.26009038e-01, 9.99637196e-01,\n       6.95908458e-01, 2.48485752e-02, 9.99999687e-01, 5.30399331e-03,\n       6.77821333e-05, 8.13017121e-05, 8.13017121e-05, 1.17312718e-02,\n       9.85898471e-01])"
     },
     "execution_count": 32,
     "metadata": {},
     "output_type": "execute_result"
    }
   ],
   "source": [
    "results_log.predict() # Predicted outcomes from our model."
   ],
   "metadata": {
    "collapsed": false
   }
  },
  {
   "cell_type": "code",
   "execution_count": 33,
   "outputs": [
    {
     "data": {
      "text/plain": "array([0, 0, 1, 0, 1, 1, 1, 1, 1, 1, 0, 1, 0, 1, 0, 0, 1, 1, 0, 0, 0, 0,\n       1, 0, 1, 0, 1, 0, 0, 1, 0, 0, 1, 1, 1, 0, 0, 1, 1, 1, 0, 1, 0, 1,\n       1, 0, 0, 0, 0, 0, 1, 1, 1, 1, 1, 0, 1, 0, 1, 0, 1, 1, 0, 1, 1, 1,\n       0, 1, 1, 1, 0, 0, 1, 1, 1, 1, 1, 1, 1, 1, 0, 1, 0, 1, 1, 1, 1, 0,\n       0, 0, 1, 0, 0, 1, 0, 1, 1, 1, 1, 1, 1, 1, 1, 1, 1, 1, 1, 1, 1, 0,\n       1, 1, 1, 1, 1, 0, 0, 0, 0, 0, 1, 0, 0, 0, 1, 0, 1, 1, 1, 1, 1, 1,\n       0, 1, 0, 0, 0, 1, 0, 1, 1, 0, 1, 0, 0, 0, 0, 0, 1])"
     },
     "execution_count": 33,
     "metadata": {},
     "output_type": "execute_result"
    }
   ],
   "source": [
    "np.array(y_train) # Actual outcomes from our data set."
   ],
   "metadata": {
    "collapsed": false
   }
  },
  {
   "cell_type": "markdown",
   "source": [
    "#### To easily compare the two arrays above, we will summarise them in a \"Prediction Table\":"
   ],
   "metadata": {
    "collapsed": false
   }
  },
  {
   "cell_type": "code",
   "execution_count": 34,
   "outputs": [
    {
     "data": {
      "text/plain": "array([[59.,  3.],\n       [ 4., 83.]])"
     },
     "execution_count": 34,
     "metadata": {},
     "output_type": "execute_result"
    }
   ],
   "source": [
    "results_log.pred_table() # Prediction Table also known as \"Confusion Matrix\"."
   ],
   "metadata": {
    "collapsed": false
   }
  },
  {
   "cell_type": "markdown",
   "source": [
    "#### To easily interpret the matrix above, we can reformat it thus:"
   ],
   "metadata": {
    "collapsed": false
   }
  },
  {
   "cell_type": "code",
   "execution_count": 35,
   "outputs": [
    {
     "data": {
      "text/plain": "            Predicted 0  Predicted 1\nActually 0         59.0          3.0\nActually 1          4.0         83.0",
      "text/html": "<div>\n<style scoped>\n    .dataframe tbody tr th:only-of-type {\n        vertical-align: middle;\n    }\n\n    .dataframe tbody tr th {\n        vertical-align: top;\n    }\n\n    .dataframe thead th {\n        text-align: right;\n    }\n</style>\n<table border=\"1\" class=\"dataframe\">\n  <thead>\n    <tr style=\"text-align: right;\">\n      <th></th>\n      <th>Predicted 0</th>\n      <th>Predicted 1</th>\n    </tr>\n  </thead>\n  <tbody>\n    <tr>\n      <th>Actually 0</th>\n      <td>59.0</td>\n      <td>3.0</td>\n    </tr>\n    <tr>\n      <th>Actually 1</th>\n      <td>4.0</td>\n      <td>83.0</td>\n    </tr>\n  </tbody>\n</table>\n</div>"
     },
     "execution_count": 35,
     "metadata": {},
     "output_type": "execute_result"
    }
   ],
   "source": [
    "cm_df = pd.DataFrame(results_log.pred_table()) # cm_df = confusion matrix data frame\n",
    "cm_df.columns = ['Predicted 0','Predicted 1']\n",
    "cm_df = cm_df.rename(index={0: 'Actually 0',1:'Actually 1'})\n",
    "cm_df"
   ],
   "metadata": {
    "collapsed": false
   }
  },
  {
   "cell_type": "markdown",
   "source": [
    "#### This is how the reformatted matrix above is interpreted:\n",
    "\n",
    "##### For 59 observations, our model predicted 0 (not admitted) and the actual outcomes were 0.\n",
    "##### For 83 observations, our model predicted 1 (admitted) and the actual outcomes were 1.\n",
    "\n",
    "#### However,\n",
    "\n",
    "##### For 3 observations, our model predicted 1 (admitted) and the actual outcomes were 0 (not admitted).\n",
    "##### For 4 observations, our model predicted 0 (not admitted) and the actual outcomes were 1 (admitted).\n",
    "\n",
    "#### The foregoing two statements are the instances our model predicted wrongly. They are quite few compared to the correct predictions. We can calculate the accuracy of our model thus:"
   ],
   "metadata": {
    "collapsed": false
   }
  },
  {
   "cell_type": "code",
   "execution_count": 36,
   "outputs": [
    {
     "data": {
      "text/plain": "0.9530201342281879"
     },
     "execution_count": 36,
     "metadata": {},
     "output_type": "execute_result"
    }
   ],
   "source": [
    "cm = np.array(cm_df) # First create an array so it is easier to calculate the accuracy.\n",
    "\n",
    "# Calculate the accuracy of the model\n",
    "accuracy_train = (cm[0,0]+cm[1,1])/cm.sum() # accuracy_train = accuracy of our model based on train data.\n",
    "accuracy_train"
   ],
   "metadata": {
    "collapsed": false
   }
  },
  {
   "cell_type": "markdown",
   "source": [
    "#### The above shows our model is 95.3% accurate.\n",
    "\n",
    "##### In case you don't understand the previous code block where we calculated the accuracy, what we have done is this:\n",
    "\n",
    "Our model predicted correctly in 59+83 (142) cases but predicted wrongly in 3+4 (7) cases.\n",
    "Since we have a total of 149 cases, we can calculate our accuracy thus:"
   ],
   "metadata": {
    "collapsed": false
   }
  },
  {
   "cell_type": "markdown",
   "source": [
    "$ \\frac{142}{149} * 100\\% = 95.302\\%$"
   ],
   "metadata": {
    "collapsed": false
   }
  },
  {
   "cell_type": "markdown",
   "source": [
    "## Testing Our Model"
   ],
   "metadata": {
    "collapsed": false
   }
  },
  {
   "cell_type": "markdown",
   "source": [
    "#### We should remember we did an 80%-20% train-test-split of our data set earlier. We will now use the test portion of the data set (which our model has never seen) to test and verify the accuracy of our model so we can be sure our model has not over-fitted on the train data thereby giving us a misleading result of 95% accuracy."
   ],
   "metadata": {
    "collapsed": false
   }
  },
  {
   "cell_type": "code",
   "execution_count": 37,
   "outputs": [
    {
     "data": {
      "text/plain": "124    1\n113    1\n161    1\n153    1\n117    0\n87     1\n177    1\n48     0\n45     0\n52     0\n105    1\n0      0\n104    0\n155    0\n100    1\n71     1\n61     1\n7      1\n32     0\n172    0\n9      0\n185    0\n148    0\n174    1\n138    0\n176    1\n126    1\n56     0\n59     1\n137    0\n81     1\n29     1\n135    0\n109    0\n20     1\n143    1\n51     1\n181    0\nName: Admitted, dtype: int64"
     },
     "execution_count": 37,
     "metadata": {},
     "output_type": "execute_result"
    }
   ],
   "source": [
    "# Actual outcomes (admitted or not admitted) from the test data:\n",
    "y_test"
   ],
   "metadata": {
    "collapsed": false
   }
  },
  {
   "cell_type": "code",
   "execution_count": 38,
   "outputs": [
    {
     "data": {
      "text/plain": "      SAT  Gender\n124  1891       1\n113  1934       1\n161  1934       1\n153  1893       0\n117  1475       0\n87   1979       0\n177  1708       0\n48   1486       0\n45   1414       0\n52   1697       1\n105  1778       1\n0    1363       0\n104  1526       1\n155  1487       0\n100  1775       1\n71   1634       0\n61   1715       0\n7    1887       1\n32   1656       0\n172  1665       0\n9    1580       0\n185  1500       1\n148  1402       0\n174  1731       1\n138  1412       1\n176  1930       1\n126  1741       1\n56   1670       0\n59   1777       1\n137  1607       0\n81   1808       1\n29   1764       1\n135  1502       0\n109  1464       0\n20   1987       1\n143  1773       1\n51   2050       0\n181  1444       0",
      "text/html": "<div>\n<style scoped>\n    .dataframe tbody tr th:only-of-type {\n        vertical-align: middle;\n    }\n\n    .dataframe tbody tr th {\n        vertical-align: top;\n    }\n\n    .dataframe thead th {\n        text-align: right;\n    }\n</style>\n<table border=\"1\" class=\"dataframe\">\n  <thead>\n    <tr style=\"text-align: right;\">\n      <th></th>\n      <th>SAT</th>\n      <th>Gender</th>\n    </tr>\n  </thead>\n  <tbody>\n    <tr>\n      <th>124</th>\n      <td>1891</td>\n      <td>1</td>\n    </tr>\n    <tr>\n      <th>113</th>\n      <td>1934</td>\n      <td>1</td>\n    </tr>\n    <tr>\n      <th>161</th>\n      <td>1934</td>\n      <td>1</td>\n    </tr>\n    <tr>\n      <th>153</th>\n      <td>1893</td>\n      <td>0</td>\n    </tr>\n    <tr>\n      <th>117</th>\n      <td>1475</td>\n      <td>0</td>\n    </tr>\n    <tr>\n      <th>87</th>\n      <td>1979</td>\n      <td>0</td>\n    </tr>\n    <tr>\n      <th>177</th>\n      <td>1708</td>\n      <td>0</td>\n    </tr>\n    <tr>\n      <th>48</th>\n      <td>1486</td>\n      <td>0</td>\n    </tr>\n    <tr>\n      <th>45</th>\n      <td>1414</td>\n      <td>0</td>\n    </tr>\n    <tr>\n      <th>52</th>\n      <td>1697</td>\n      <td>1</td>\n    </tr>\n    <tr>\n      <th>105</th>\n      <td>1778</td>\n      <td>1</td>\n    </tr>\n    <tr>\n      <th>0</th>\n      <td>1363</td>\n      <td>0</td>\n    </tr>\n    <tr>\n      <th>104</th>\n      <td>1526</td>\n      <td>1</td>\n    </tr>\n    <tr>\n      <th>155</th>\n      <td>1487</td>\n      <td>0</td>\n    </tr>\n    <tr>\n      <th>100</th>\n      <td>1775</td>\n      <td>1</td>\n    </tr>\n    <tr>\n      <th>71</th>\n      <td>1634</td>\n      <td>0</td>\n    </tr>\n    <tr>\n      <th>61</th>\n      <td>1715</td>\n      <td>0</td>\n    </tr>\n    <tr>\n      <th>7</th>\n      <td>1887</td>\n      <td>1</td>\n    </tr>\n    <tr>\n      <th>32</th>\n      <td>1656</td>\n      <td>0</td>\n    </tr>\n    <tr>\n      <th>172</th>\n      <td>1665</td>\n      <td>0</td>\n    </tr>\n    <tr>\n      <th>9</th>\n      <td>1580</td>\n      <td>0</td>\n    </tr>\n    <tr>\n      <th>185</th>\n      <td>1500</td>\n      <td>1</td>\n    </tr>\n    <tr>\n      <th>148</th>\n      <td>1402</td>\n      <td>0</td>\n    </tr>\n    <tr>\n      <th>174</th>\n      <td>1731</td>\n      <td>1</td>\n    </tr>\n    <tr>\n      <th>138</th>\n      <td>1412</td>\n      <td>1</td>\n    </tr>\n    <tr>\n      <th>176</th>\n      <td>1930</td>\n      <td>1</td>\n    </tr>\n    <tr>\n      <th>126</th>\n      <td>1741</td>\n      <td>1</td>\n    </tr>\n    <tr>\n      <th>56</th>\n      <td>1670</td>\n      <td>0</td>\n    </tr>\n    <tr>\n      <th>59</th>\n      <td>1777</td>\n      <td>1</td>\n    </tr>\n    <tr>\n      <th>137</th>\n      <td>1607</td>\n      <td>0</td>\n    </tr>\n    <tr>\n      <th>81</th>\n      <td>1808</td>\n      <td>1</td>\n    </tr>\n    <tr>\n      <th>29</th>\n      <td>1764</td>\n      <td>1</td>\n    </tr>\n    <tr>\n      <th>135</th>\n      <td>1502</td>\n      <td>0</td>\n    </tr>\n    <tr>\n      <th>109</th>\n      <td>1464</td>\n      <td>0</td>\n    </tr>\n    <tr>\n      <th>20</th>\n      <td>1987</td>\n      <td>1</td>\n    </tr>\n    <tr>\n      <th>143</th>\n      <td>1773</td>\n      <td>1</td>\n    </tr>\n    <tr>\n      <th>51</th>\n      <td>2050</td>\n      <td>0</td>\n    </tr>\n    <tr>\n      <th>181</th>\n      <td>1444</td>\n      <td>0</td>\n    </tr>\n  </tbody>\n</table>\n</div>"
     },
     "execution_count": 38,
     "metadata": {},
     "output_type": "execute_result"
    }
   ],
   "source": [
    "# Test input data:\n",
    "x_test"
   ],
   "metadata": {
    "collapsed": false
   }
  },
  {
   "cell_type": "code",
   "execution_count": 39,
   "outputs": [
    {
     "data": {
      "text/plain": "     const   SAT  Gender\n124    1.0  1891       1\n113    1.0  1934       1\n161    1.0  1934       1\n153    1.0  1893       0\n117    1.0  1475       0\n87     1.0  1979       0\n177    1.0  1708       0\n48     1.0  1486       0\n45     1.0  1414       0\n52     1.0  1697       1\n105    1.0  1778       1\n0      1.0  1363       0\n104    1.0  1526       1\n155    1.0  1487       0\n100    1.0  1775       1\n71     1.0  1634       0\n61     1.0  1715       0\n7      1.0  1887       1\n32     1.0  1656       0\n172    1.0  1665       0\n9      1.0  1580       0\n185    1.0  1500       1\n148    1.0  1402       0\n174    1.0  1731       1\n138    1.0  1412       1\n176    1.0  1930       1\n126    1.0  1741       1\n56     1.0  1670       0\n59     1.0  1777       1\n137    1.0  1607       0\n81     1.0  1808       1\n29     1.0  1764       1\n135    1.0  1502       0\n109    1.0  1464       0\n20     1.0  1987       1\n143    1.0  1773       1\n51     1.0  2050       0\n181    1.0  1444       0",
      "text/html": "<div>\n<style scoped>\n    .dataframe tbody tr th:only-of-type {\n        vertical-align: middle;\n    }\n\n    .dataframe tbody tr th {\n        vertical-align: top;\n    }\n\n    .dataframe thead th {\n        text-align: right;\n    }\n</style>\n<table border=\"1\" class=\"dataframe\">\n  <thead>\n    <tr style=\"text-align: right;\">\n      <th></th>\n      <th>const</th>\n      <th>SAT</th>\n      <th>Gender</th>\n    </tr>\n  </thead>\n  <tbody>\n    <tr>\n      <th>124</th>\n      <td>1.0</td>\n      <td>1891</td>\n      <td>1</td>\n    </tr>\n    <tr>\n      <th>113</th>\n      <td>1.0</td>\n      <td>1934</td>\n      <td>1</td>\n    </tr>\n    <tr>\n      <th>161</th>\n      <td>1.0</td>\n      <td>1934</td>\n      <td>1</td>\n    </tr>\n    <tr>\n      <th>153</th>\n      <td>1.0</td>\n      <td>1893</td>\n      <td>0</td>\n    </tr>\n    <tr>\n      <th>117</th>\n      <td>1.0</td>\n      <td>1475</td>\n      <td>0</td>\n    </tr>\n    <tr>\n      <th>87</th>\n      <td>1.0</td>\n      <td>1979</td>\n      <td>0</td>\n    </tr>\n    <tr>\n      <th>177</th>\n      <td>1.0</td>\n      <td>1708</td>\n      <td>0</td>\n    </tr>\n    <tr>\n      <th>48</th>\n      <td>1.0</td>\n      <td>1486</td>\n      <td>0</td>\n    </tr>\n    <tr>\n      <th>45</th>\n      <td>1.0</td>\n      <td>1414</td>\n      <td>0</td>\n    </tr>\n    <tr>\n      <th>52</th>\n      <td>1.0</td>\n      <td>1697</td>\n      <td>1</td>\n    </tr>\n    <tr>\n      <th>105</th>\n      <td>1.0</td>\n      <td>1778</td>\n      <td>1</td>\n    </tr>\n    <tr>\n      <th>0</th>\n      <td>1.0</td>\n      <td>1363</td>\n      <td>0</td>\n    </tr>\n    <tr>\n      <th>104</th>\n      <td>1.0</td>\n      <td>1526</td>\n      <td>1</td>\n    </tr>\n    <tr>\n      <th>155</th>\n      <td>1.0</td>\n      <td>1487</td>\n      <td>0</td>\n    </tr>\n    <tr>\n      <th>100</th>\n      <td>1.0</td>\n      <td>1775</td>\n      <td>1</td>\n    </tr>\n    <tr>\n      <th>71</th>\n      <td>1.0</td>\n      <td>1634</td>\n      <td>0</td>\n    </tr>\n    <tr>\n      <th>61</th>\n      <td>1.0</td>\n      <td>1715</td>\n      <td>0</td>\n    </tr>\n    <tr>\n      <th>7</th>\n      <td>1.0</td>\n      <td>1887</td>\n      <td>1</td>\n    </tr>\n    <tr>\n      <th>32</th>\n      <td>1.0</td>\n      <td>1656</td>\n      <td>0</td>\n    </tr>\n    <tr>\n      <th>172</th>\n      <td>1.0</td>\n      <td>1665</td>\n      <td>0</td>\n    </tr>\n    <tr>\n      <th>9</th>\n      <td>1.0</td>\n      <td>1580</td>\n      <td>0</td>\n    </tr>\n    <tr>\n      <th>185</th>\n      <td>1.0</td>\n      <td>1500</td>\n      <td>1</td>\n    </tr>\n    <tr>\n      <th>148</th>\n      <td>1.0</td>\n      <td>1402</td>\n      <td>0</td>\n    </tr>\n    <tr>\n      <th>174</th>\n      <td>1.0</td>\n      <td>1731</td>\n      <td>1</td>\n    </tr>\n    <tr>\n      <th>138</th>\n      <td>1.0</td>\n      <td>1412</td>\n      <td>1</td>\n    </tr>\n    <tr>\n      <th>176</th>\n      <td>1.0</td>\n      <td>1930</td>\n      <td>1</td>\n    </tr>\n    <tr>\n      <th>126</th>\n      <td>1.0</td>\n      <td>1741</td>\n      <td>1</td>\n    </tr>\n    <tr>\n      <th>56</th>\n      <td>1.0</td>\n      <td>1670</td>\n      <td>0</td>\n    </tr>\n    <tr>\n      <th>59</th>\n      <td>1.0</td>\n      <td>1777</td>\n      <td>1</td>\n    </tr>\n    <tr>\n      <th>137</th>\n      <td>1.0</td>\n      <td>1607</td>\n      <td>0</td>\n    </tr>\n    <tr>\n      <th>81</th>\n      <td>1.0</td>\n      <td>1808</td>\n      <td>1</td>\n    </tr>\n    <tr>\n      <th>29</th>\n      <td>1.0</td>\n      <td>1764</td>\n      <td>1</td>\n    </tr>\n    <tr>\n      <th>135</th>\n      <td>1.0</td>\n      <td>1502</td>\n      <td>0</td>\n    </tr>\n    <tr>\n      <th>109</th>\n      <td>1.0</td>\n      <td>1464</td>\n      <td>0</td>\n    </tr>\n    <tr>\n      <th>20</th>\n      <td>1.0</td>\n      <td>1987</td>\n      <td>1</td>\n    </tr>\n    <tr>\n      <th>143</th>\n      <td>1.0</td>\n      <td>1773</td>\n      <td>1</td>\n    </tr>\n    <tr>\n      <th>51</th>\n      <td>1.0</td>\n      <td>2050</td>\n      <td>0</td>\n    </tr>\n    <tr>\n      <th>181</th>\n      <td>1.0</td>\n      <td>1444</td>\n      <td>0</td>\n    </tr>\n  </tbody>\n</table>\n</div>"
     },
     "execution_count": 39,
     "metadata": {},
     "output_type": "execute_result"
    }
   ],
   "source": [
    "# Don't forget to add constants to the test input data:\n",
    "x_test = sm.add_constant(x_test)\n",
    "x_test"
   ],
   "metadata": {
    "collapsed": false
   }
  },
  {
   "cell_type": "markdown",
   "source": [
    "#### We will now write a function to determine our confusion matrix for our test data\n",
    "##### I have tried to furnish the following code cell with explanatory comments to explain what is going on."
   ],
   "metadata": {
    "collapsed": false
   }
  },
  {
   "cell_type": "code",
   "execution_count": 40,
   "outputs": [],
   "source": [
    "def confusion_matrix(test_input_data,actual_outcomes,model):\n",
    "\n",
    "        # Confusion matrix\n",
    "\n",
    "        # Parameters\n",
    "        # ----------\n",
    "        # test_input_data: A data frame or array\n",
    "            # This is the data frame that contains our test input data only.\n",
    "            # The order of the variables in this data frame is very important!\n",
    "            # The variable order should be identical to that of the train input data. e.g. const, var1, var2, etc.\n",
    "        # actual_outcomes: A data frame or array\n",
    "            # These are the actual outcomes (admitted or not admitted) from the test_data.\n",
    "            # In the case of a logistic regression, it should be a single column with 0s and 1s\n",
    "\n",
    "        # model: a LogitResults object\n",
    "            # this is the variable where we have our fitted model\n",
    "            # e.g. results_log in this project.\n",
    "        # ----------\n",
    "\n",
    "        #Predict the values using the Logit model\n",
    "        predicted_outcomes = model.predict(test_input_data)\n",
    "\n",
    "        # Specify the bins\n",
    "        bins=np.array([0,0.5,1])\n",
    "\n",
    "        # Create a histogram, where if values are between 0 and 0.5 they will be considered 0\n",
    "        # ...but if they are between 0.5 and 1, they will be considered 1\n",
    "        cm_2 = np.histogram2d(actual_outcomes, predicted_outcomes, bins=bins)[0]\n",
    "\n",
    "        # Return the confusion matrix\n",
    "        return cm_2"
   ],
   "metadata": {
    "collapsed": false
   }
  },
  {
   "cell_type": "code",
   "execution_count": 41,
   "outputs": [
    {
     "data": {
      "text/plain": "array([[17.,  1.],\n       [ 1., 19.]])"
     },
     "execution_count": 41,
     "metadata": {},
     "output_type": "execute_result"
    }
   ],
   "source": [
    "# Create a confusion matrix with the test data\n",
    "cm_2 = confusion_matrix(x_test,y_test,results_log)\n",
    "cm_2"
   ],
   "metadata": {
    "collapsed": false
   }
  },
  {
   "cell_type": "markdown",
   "source": [
    "#### Let's reformat as we did before for our train data, to aid understanding:"
   ],
   "metadata": {
    "collapsed": false
   }
  },
  {
   "cell_type": "code",
   "execution_count": 42,
   "outputs": [
    {
     "data": {
      "text/plain": "            Predicted 0  Predicted 1\nActually 0         17.0          1.0\nActually 1          1.0         19.0",
      "text/html": "<div>\n<style scoped>\n    .dataframe tbody tr th:only-of-type {\n        vertical-align: middle;\n    }\n\n    .dataframe tbody tr th {\n        vertical-align: top;\n    }\n\n    .dataframe thead th {\n        text-align: right;\n    }\n</style>\n<table border=\"1\" class=\"dataframe\">\n  <thead>\n    <tr style=\"text-align: right;\">\n      <th></th>\n      <th>Predicted 0</th>\n      <th>Predicted 1</th>\n    </tr>\n  </thead>\n  <tbody>\n    <tr>\n      <th>Actually 0</th>\n      <td>17.0</td>\n      <td>1.0</td>\n    </tr>\n    <tr>\n      <th>Actually 1</th>\n      <td>1.0</td>\n      <td>19.0</td>\n    </tr>\n  </tbody>\n</table>\n</div>"
     },
     "execution_count": 42,
     "metadata": {},
     "output_type": "execute_result"
    }
   ],
   "source": [
    "cm_2_df = pd.DataFrame(cm_2) # cm_2_df = 2nd confusion matrix data frame (1st was for train data).\n",
    "cm_2_df.columns = ['Predicted 0','Predicted 1']\n",
    "cm_2_df = cm_2_df.rename(index={0: 'Actually 0',1:'Actually 1'})\n",
    "cm_2_df"
   ],
   "metadata": {
    "collapsed": false
   }
  },
  {
   "cell_type": "markdown",
   "source": [
    "#### We can now calculate the accuracy of our model performance on the test data:"
   ],
   "metadata": {
    "collapsed": false
   }
  },
  {
   "cell_type": "code",
   "execution_count": 43,
   "outputs": [
    {
     "data": {
      "text/plain": "0.9473684210526315"
     },
     "execution_count": 43,
     "metadata": {},
     "output_type": "execute_result"
    }
   ],
   "source": [
    "cm_2_df = np.array(cm_2_df) # First create an array so it is easier to calculate the accuracy.\n",
    "accuracy_test = (cm_2_df[0,0]+cm_2_df[1,1])/cm_2_df.sum()\n",
    "accuracy_test"
   ],
   "metadata": {
    "collapsed": false
   }
  },
  {
   "cell_type": "markdown",
   "source": [
    "#### We can see from the result above that our model's performance on the test data is 94.7%. This is not too far from the result of the train data (95.3%) which shows that there was negligible over-fitting and our model performs quite well overall."
   ],
   "metadata": {
    "collapsed": false
   }
  },
  {
   "cell_type": "markdown",
   "source": [
    "## One Extra Note"
   ],
   "metadata": {
    "collapsed": false
   }
  },
  {
   "cell_type": "markdown",
   "source": [
    "#### There is something called Mis-classification Rate. This is just like the opposite of Accuracy. It shows the level of inaccuracy of our model so obviously the aim is to minimise this figure."
   ],
   "metadata": {
    "collapsed": false
   }
  },
  {
   "cell_type": "code",
   "execution_count": 44,
   "outputs": [
    {
     "name": "stdout",
     "output_type": "stream",
     "text": [
      "Mis-classification rate: 0.05263157894736842\n"
     ]
    }
   ],
   "source": [
    "# Calculating the mis-classification rate:\n",
    "# Note that Accuracy + Mis-classification rate = 1 = 100%\n",
    "print ('Mis-classification rate: '+str((1+1)/(17+19+1+1)))"
   ],
   "metadata": {
    "collapsed": false
   }
  },
  {
   "cell_type": "markdown",
   "source": [
    "#### So the Mis-classification Rate is 5%"
   ],
   "metadata": {
    "collapsed": false
   }
  }
 ],
 "metadata": {
  "kernelspec": {
   "display_name": "Python 3",
   "language": "python",
   "name": "python3"
  },
  "language_info": {
   "codemirror_mode": {
    "name": "ipython",
    "version": 2
   },
   "file_extension": ".py",
   "mimetype": "text/x-python",
   "name": "python",
   "nbconvert_exporter": "python",
   "pygments_lexer": "ipython2",
   "version": "2.7.6"
  }
 },
 "nbformat": 4,
 "nbformat_minor": 0
}
